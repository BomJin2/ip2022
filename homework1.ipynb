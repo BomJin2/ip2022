{
 "cells": [
  {
   "cell_type": "code",
   "execution_count": 1,
   "metadata": {},
   "outputs": [],
   "source": [
    "import cv2\n",
    "import numpy as np"
   ]
  },
  {
   "cell_type": "code",
   "execution_count": 2,
   "metadata": {},
   "outputs": [],
   "source": [
    "def nothing(x):\n",
    "    pass\n",
    "img = cv2.imread('son.jpg')\n",
    "font = cv2.FONT_HERSHEY_SIMPLEX\n",
    "drawing = False \n",
    "mode = True \n",
    "ix,iy = -1,-1"
   ]
  },
  {
   "cell_type": "code",
   "execution_count": 3,
   "metadata": {},
   "outputs": [
    {
     "ename": "error",
     "evalue": "OpenCV(4.6.0) D:\\a\\opencv-python\\opencv-python\\opencv\\modules\\highgui\\src\\window_w32.cpp:2581: error: (-27:Null pointer) NULL window: 'image' in function 'cvGetTrackbarPos'\n",
     "output_type": "error",
     "traceback": [
      "\u001b[1;31m---------------------------------------------------------------------------\u001b[0m",
      "\u001b[1;31merror\u001b[0m                                     Traceback (most recent call last)",
      "\u001b[1;32mc:\\Users\\opjkl\\Desktop\\새 폴더\\homework.ipynb 셀 3\u001b[0m in \u001b[0;36m<cell line: 32>\u001b[1;34m()\u001b[0m\n\u001b[0;32m     <a href='vscode-notebook-cell:/c%3A/Users/opjkl/Desktop/%EC%83%88%20%ED%8F%B4%EB%8D%94/homework.ipynb#W3sZmlsZQ%3D%3D?line=30'>31</a>\u001b[0m \u001b[39mwhile\u001b[39;00m(\u001b[39m1\u001b[39m):\n\u001b[0;32m     <a href='vscode-notebook-cell:/c%3A/Users/opjkl/Desktop/%EC%83%88%20%ED%8F%B4%EB%8D%94/homework.ipynb#W3sZmlsZQ%3D%3D?line=31'>32</a>\u001b[0m     output \u001b[39m=\u001b[39m cv2\u001b[39m.\u001b[39mimread(\u001b[39m'\u001b[39m\u001b[39mson.jpg\u001b[39m\u001b[39m'\u001b[39m)\n\u001b[1;32m---> <a href='vscode-notebook-cell:/c%3A/Users/opjkl/Desktop/%EC%83%88%20%ED%8F%B4%EB%8D%94/homework.ipynb#W3sZmlsZQ%3D%3D?line=32'>33</a>\u001b[0m     Value \u001b[39m=\u001b[39m cv2\u001b[39m.\u001b[39;49mgetTrackbarPos(\u001b[39m'\u001b[39;49m\u001b[39mValue\u001b[39;49m\u001b[39m'\u001b[39;49m,\u001b[39m'\u001b[39;49m\u001b[39mimage\u001b[39;49m\u001b[39m'\u001b[39;49m)\n\u001b[0;32m     <a href='vscode-notebook-cell:/c%3A/Users/opjkl/Desktop/%EC%83%88%20%ED%8F%B4%EB%8D%94/homework.ipynb#W3sZmlsZQ%3D%3D?line=33'>34</a>\u001b[0m     dst \u001b[39m=\u001b[39m cv2\u001b[39m.\u001b[39maddWeighted(img, Value\u001b[39m/\u001b[39m\u001b[39m255\u001b[39m, output, \u001b[39m1.\u001b[39m\u001b[39m-\u001b[39mValue\u001b[39m/\u001b[39m\u001b[39m255\u001b[39m, \u001b[39m0\u001b[39m)\n\u001b[0;32m     <a href='vscode-notebook-cell:/c%3A/Users/opjkl/Desktop/%EC%83%88%20%ED%8F%B4%EB%8D%94/homework.ipynb#W3sZmlsZQ%3D%3D?line=34'>35</a>\u001b[0m     cv2\u001b[39m.\u001b[39mimshow(\u001b[39m'\u001b[39m\u001b[39mimage\u001b[39m\u001b[39m'\u001b[39m, dst)\n",
      "\u001b[1;31merror\u001b[0m: OpenCV(4.6.0) D:\\a\\opencv-python\\opencv-python\\opencv\\modules\\highgui\\src\\window_w32.cpp:2581: error: (-27:Null pointer) NULL window: 'image' in function 'cvGetTrackbarPos'\n"
     ]
    }
   ],
   "source": [
    "from multiprocessing import Value\n",
    "from turtle import circle\n",
    "\n",
    "\n",
    "def draw_circle(event,x,y,flags,param):\n",
    "    global ix,iy,drawing,mode,img\n",
    "    text = \"Mouse position : (\" + str(ix) + \",\" + str(iy) + \") - (\" + str(x) + \",\" + str(y) + \")\"\n",
    "    if event == cv2.EVENT_LBUTTONDOWN:\n",
    "        drawing = True\n",
    "        ix,iy = x,y\n",
    "    elif event == cv2.EVENT_MOUSEMOVE:\n",
    "        if drawing == True:\n",
    "            if mode == True:\n",
    "                img = cv2.imread('son.jpg')\n",
    "                cv2.rectangle(img,(ix,iy),(x,y),(0,0,255), -1)\n",
    "                cv2.putText(img, text, (0, 40), font, 1, (255, 255, 255), 1, cv2.LINE_AA)\n",
    "            else:\n",
    "                cv2.circle(img,(x,y),5,(255,0,0),-1)\n",
    "            \n",
    "                                \n",
    "    elif event == cv2.EVENT_LBUTTONUP:\n",
    "        drawing = False\n",
    "        cv2.rectangle(img,(ix,iy),(x,y),(0,0,255),-1)\n",
    "        cv2.putText(img, text, (0, 40), font, 1, (255, 255, 255), 1, cv2.LINE_AA)\n",
    "        \n",
    "cv2.namedWindow('image')\n",
    "cv2.setMouseCallback('image',draw_circle)\n",
    "cv2.createTrackbar('Value','image',0,255,nothing)\n",
    "\n",
    "            \n",
    "while(1):\n",
    "    output = cv2.imread('son.jpg')\n",
    "    Value = cv2.getTrackbarPos('Value','image')\n",
    "    dst = cv2.addWeighted(img, Value/255, output, 1.-Value/255, 0)\n",
    "    cv2.imshow('image', dst)\n",
    "    k = cv2.waitKey(1) & 0xFF\n",
    "    if k == ord('m'):\n",
    "        mode = not mode\n",
    "    elif k == 27:\n",
    "        break\n",
    "cv2.destroyAllWindows()"
   ]
  },
  {
   "cell_type": "code",
   "execution_count": null,
   "metadata": {},
   "outputs": [],
   "source": []
  }
 ],
 "metadata": {
  "kernelspec": {
   "display_name": "Python 3.9.12 ('opencv')",
   "language": "python",
   "name": "python3"
  },
  "language_info": {
   "codemirror_mode": {
    "name": "ipython",
    "version": 3
   },
   "file_extension": ".py",
   "mimetype": "text/x-python",
   "name": "python",
   "nbconvert_exporter": "python",
   "pygments_lexer": "ipython3",
   "version": "3.9.12"
  },
  "orig_nbformat": 4,
  "vscode": {
   "interpreter": {
    "hash": "8cdd521b7d7642792c86999cb8bbf38e6a8a37f3ee87c9fbef34d11aa3275b9a"
   }
  }
 },
 "nbformat": 4,
 "nbformat_minor": 2
}
