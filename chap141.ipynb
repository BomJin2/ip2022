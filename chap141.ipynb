{
 "cells": [
  {
   "cell_type": "code",
   "execution_count": 45,
   "metadata": {},
   "outputs": [],
   "source": [
    "import cv2\n",
    "import numpy as np"
   ]
  },
  {
   "cell_type": "code",
   "execution_count": 46,
   "metadata": {},
   "outputs": [],
   "source": [
    "cap = cv2.VideoCapture('tracking2.avi')"
   ]
  },
  {
   "cell_type": "code",
   "execution_count": 47,
   "metadata": {},
   "outputs": [],
   "source": [
    "while(1):\n",
    "    # Take each frame\n",
    "    ret, frame = cap.read()\n",
    "    if ret :\n",
    "\n",
    "        # Convert BGR to HSV\n",
    "        hsv = cv2.cvtColor(frame, cv2.COLOR_BGR2HSV)\n",
    "\n",
    "        # define range of blue color in HSV\n",
    "        lower_blue = np.array([20,50,50])\n",
    "        upper_blue = np.array([80,255,255])\n",
    "\n",
    "        # Threshold the HSV image to get only blue colors\n",
    "        mask = cv2.inRange(hsv, lower_blue, upper_blue)\n",
    "\n",
    "        # Bitwise-AND mask and original image\n",
    "        res = cv2.bitwise_and(frame,frame, mask= mask)\n",
    "\n",
    "        cv2.imshow('frame',frame)\n",
    "        cv2.imshow('mask',mask)\n",
    "        cv2.imshow('res',res)\n",
    "        k = cv2.waitKey(5) & 0xFF\n",
    "        if k == 27:\n",
    "            break\n",
    "\n",
    "    else :\n",
    "        break\n",
    "\n",
    "cap.release()\n",
    "cv2.destroyAllWindows()"
   ]
  },
  {
   "cell_type": "code",
   "execution_count": null,
   "metadata": {},
   "outputs": [],
   "source": []
  }
 ],
 "metadata": {
  "kernelspec": {
   "display_name": "Python 3.8.13 ('opencv': conda)",
   "language": "python",
   "name": "python3"
  },
  "language_info": {
   "codemirror_mode": {
    "name": "ipython",
    "version": 3
   },
   "file_extension": ".py",
   "mimetype": "text/x-python",
   "name": "python",
   "nbconvert_exporter": "python",
   "pygments_lexer": "ipython3",
   "version": "3.8.13"
  },
  "orig_nbformat": 4,
  "vscode": {
   "interpreter": {
    "hash": "372dd9a3bd1d73e1c6c4b661023e75f13236f8a5dff2a355cd6cb97beb0ea6b1"
   }
  }
 },
 "nbformat": 4,
 "nbformat_minor": 2
}
