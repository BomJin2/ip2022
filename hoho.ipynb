{
 "cells": [
  {
   "cell_type": "code",
   "execution_count": null,
   "metadata": {},
   "outputs": [],
   "source": [
    "import cv2\n",
    "import numpy as np\n"
   ]
  },
  {
   "cell_type": "code",
   "execution_count": null,
   "metadata": {},
   "outputs": [],
   "source": [
    "def nothing(x):\n",
    "    pass\n",
    "img = cv2.imread('san.jpg')\n",
    "font = cv2.FONT_HERSHEY_SIMPLEX\n",
    "drawing = False \n",
    "mode = True \n",
    "ix,iy = -1,-1\n"
   ]
  },
  {
   "cell_type": "code",
   "execution_count": null,
   "metadata": {},
   "outputs": [],
   "source": [
    "def draw_circle(event,x,y,flags,param):\n",
    "    global ix,iy,drawing,mode,img\n",
    "    text = \"Mouse position : (\" + str(ix) + \",\" + str(iy) + \") - (\" + str(x) + \",\" + str(y) + \")\"\n",
    "    if event == cv2.EVENT_LBUTTONDOWN:\n",
    "        drawing = True\n",
    "        ix,iy = x,y\n",
    "    elif event == cv2.EVENT_MOUSEMOVE:\n",
    "        if drawing == True:\n",
    "            if mode == True:\n",
    "                img = cv2.imread('san.jpg')\n",
    "                cv2.rectangle(img,(ix,iy),(x,y),(0,0,255), -1)\n",
    "                cv2.putText(img, text, (0, 40), font, 1, (255, 255, 255), 1, cv2.LINE_AA)\n",
    "            else:\n",
    "                cv2.circle(img,(x,y),5,(255,0,0),-1)\n",
    "            \n",
    "                                \n",
    "    elif event == cv2.EVENT_LBUTTONUP:\n",
    "        drawing = False\n",
    "        cv2.rectangle(img,(ix,iy),(x,y),(0,0,255),-1)\n",
    "        cv2.putText(img, text, (0, 40), font, 1, (255, 255, 255), 1, cv2.LINE_AA)\n",
    "        \n",
    "cv2.namedWindow('image')\n",
    "cv2.setMouseCallback('image',draw_circle)\n",
    "\n",
    "cv2.createTrackbar('Value','image',0,255,nothing)\n",
    "            \n",
    "while(1):\n",
    "    cv2.imshow('image', img)\n",
    "    k = cv2.waitKey(1) & 0xFF\n",
    "    if k == ord('m'):\n",
    "        mode = not mode\n",
    "    elif k == 27:\n",
    "        break\n",
    "\n",
    "        \n",
    "cv2.destroyAllWindows()"
   ]
  }
 ],
 "metadata": {
  "kernelspec": {
   "display_name": "Python 3.9.12 ('base': conda)",
   "language": "python",
   "name": "python3"
  },
  "language_info": {
   "name": "python",
   "version": "3.9.12"
  },
  "orig_nbformat": 4,
  "vscode": {
   "interpreter": {
    "hash": "2f51dd3ae6386deae672ec76d1387492204ade0ecd7321aa3f1614994eb9e5d4"
   }
  }
 },
 "nbformat": 4,
 "nbformat_minor": 2
}
