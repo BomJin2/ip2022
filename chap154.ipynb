{
 "cells": [
  {
   "cell_type": "code",
   "execution_count": null,
   "metadata": {},
   "outputs": [],
   "source": [
    "import cv2\n",
    "import numpy as np\n",
    "from matplotlib import pyplot as plt"
   ]
  },
  {
   "cell_type": "code",
   "execution_count": null,
   "metadata": {},
   "outputs": [],
   "source": [
    "img = cv2.imread('dsu8.jpg')\n",
    "sift = cv2.SIFT_create()\n",
    "gray = cv2.cvtColor(img,cv2.COLOR_BGR2GRAY)\n",
    "kp = sift.detect(gray,None)\n",
    "imgsift = cv2.imread('dsu8.jpg')\n",
    "imgsift=cv2.drawKeypoints(img,kp,imgsift,flags=cv2.DRAW_MATCHES_FLAGS_DRAW_RICH_KEYPOINTS)"
   ]
  },
  {
   "cell_type": "code",
   "execution_count": null,
   "metadata": {},
   "outputs": [],
   "source": [
    "plt.figure(figsize = (30,45))\n",
    "plt.subplot(1,2,1),plt.imshow(img,cmap = 'gray')\n",
    "plt.title('img'), plt.xticks([]), plt.yticks([])\n",
    "plt.subplot(1,2,2),plt.imshow(imgsift,cmap = 'gray')\n",
    "plt.title('imgsift'), plt.xticks([]), plt.yticks([])\n",
    "plt.show()"
   ]
  }
 ],
 "metadata": {
  "kernelspec": {
   "display_name": "Python 3.8.15 ('opencv')",
   "language": "python",
   "name": "python3"
  },
  "language_info": {
   "name": "python",
   "version": "3.8.15"
  },
  "orig_nbformat": 4,
  "vscode": {
   "interpreter": {
    "hash": "34f36c3c68cf7eb0f3a0c54f4e51b7e4ea11e696ec4324b151fcc0443247d87a"
   }
  }
 },
 "nbformat": 4,
 "nbformat_minor": 2
}
